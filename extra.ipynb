{
  "cells": [
    {
      "cell_type": "markdown",
      "metadata": {
        "id": "RELTQX_L9Gj1"
      },
      "source": [
        "# Exercícios"
      ]
    },
    {
      "cell_type": "markdown",
      "metadata": {
        "id": "Lpmo_fpuG-YJ"
      },
      "source": [
        "**Exercício 1**\n",
        "\n",
        "Seja um sistema linear invariante no tempo, com resposta ao impulso\n",
        "\\begin{equation*}\n",
        "    h[n] = a^n \\left( u[n] - u[n-5]\\right),\n",
        "\\end{equation*}\n",
        "para $a=0,7$.\n",
        "\n",
        "Implemente a convolução $y[n] = h[n]*r_N[n]$, em *Python* ou outra linguagem de computação científica qualquer, entre $h[n]$ e a sequência\n",
        "\\begin{equation*}\n",
        "    r_N[n] = u[n] -u[n-N] = \\left\\{ \\begin{array}{cl}\n",
        "        1, \\, & 0 \\leq n\\leq 9 \\\\ \n",
        "        0, & \\text{caso contrário}.\n",
        "    \\end{array} \\right.\n",
        "\\end{equation*}\n",
        "\n",
        "Utilize laços do tipo *for* para implementar a convolução. Forneça os gráficos para as sequências $h[n]$, $r_N[n]$ e $y[n]$. Utilize barras verticais para gerar os gráficos das sequências discretas, fazendo uso de funções semelhantes à função *matplotlib.pyplot.stem*, encontrada na biblioteca *matplotlib*, da linguagem *Python*."
      ]
    },
    {
      "cell_type": "markdown",
      "metadata": {
        "id": "uOCpkcnvG-rC"
      },
      "source": [
        "**Exercício 2**\n",
        "\n",
        "Utilizando como exemplo o arquivo *plot\\_sen.py*, plote os gráficos, contínuo e discreto, de um cosseno de frequência $f_c = 500$ Hz, amostrado a uma frequência de $20$ KHz. Escalone o eixo de tempo contínuo de forma adequada."
      ]
    },
    {
      "cell_type": "markdown",
      "metadata": {
        "id": "rTXm_bEjG-5w"
      },
      "source": [
        "**Exercício 3**\n",
        "\n",
        "Faça o *download* de um arquivo de áudio em https://freesound.org/browse. Utilizando a linguagem *Python* e a função *welch*, plote o conteúdo espectral do arquivo baixado."
      ]
    }
  ],
  "metadata": {
    "colab": {
      "provenance": []
    },
    "kernelspec": {
      "display_name": "Python 3",
      "name": "python3"
    },
    "language_info": {
      "name": "python"
    }
  },
  "nbformat": 4,
  "nbformat_minor": 0
}
